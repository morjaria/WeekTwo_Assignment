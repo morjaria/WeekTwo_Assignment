{
 "metadata": {
  "language_info": {
   "codemirror_mode": {
    "name": "ipython",
    "version": 3
   },
   "file_extension": ".py",
   "mimetype": "text/x-python",
   "name": "python",
   "nbconvert_exporter": "python",
   "pygments_lexer": "ipython3",
   "version": "3.7.9-final"
  },
  "orig_nbformat": 2,
  "kernelspec": {
   "name": "python3",
   "display_name": "Python 3.7.9 64-bit ('mondev': conda)",
   "metadata": {
    "interpreter": {
     "hash": "c5c40dbd3a1b9bc80ef34e5a3242e004e2b84fb287cbee84c7571dc73f3ea7b1"
    }
   }
  }
 },
 "nbformat": 4,
 "nbformat_minor": 2,
 "cells": [
  {
   "cell_type": "code",
   "execution_count": 1,
   "metadata": {},
   "outputs": [],
   "source": [
    "import csv\n",
    "from pathlib import Path\n",
    "# intiate file_path with the location and name of CSV file to be read\n",
    "file_path=Path('./data_files/budget_data.csv')\n",
    "# Initiate financial_history_records as a dictionary to store the values in the CSV file\n",
    "financial_history_records = {}\n",
    "# intiate column_names to capture column names\n",
    "column_names=[]\n",
    "# intiate line_count to capture number of lines read in the file\n",
    "line_count=0\n",
    "with open(file_path , newline='') as data_file:\n",
    "    data_file_reader = csv.reader(data_file, delimiter = ',')\n",
    "    for row in data_file_reader:\n",
    "        # First Row containing the column names. Alternative next(reader) used in next assignment\n",
    "        if line_count ==0:\n",
    "           column_names.append(row)\n",
    "           line_count +=1\n",
    "        else:\n",
    "            #Typecase second column from String to Foat as it is used for calculations\n",
    "            financial_history_records[row[0]]= float(row[1])\n",
    "            line_count +=1\n"
   ]
  },
  {
   "cell_type": "code",
   "execution_count": 2,
   "metadata": {},
   "outputs": [],
   "source": [
    "# Calculations required from the data extracted from the file \n",
    "# Initate monthly_growth dictionary to capture the montly change in profit /loss\n",
    "monthly_growth = {}\n",
    "# intitiate previous month to store the previous month's value for subtraction \n",
    "previous_month_value = 0\n",
    "# loop through the records to calculate montly growth\n",
    "for k,v in financial_history_records.items():\n",
    "      #first month of record has no previous value, assign to this month for next month's calculation\n",
    "      if previous_month_value == 0:\n",
    "            previous_month_value = v\n",
    "           \n",
    "      else:\n",
    "            monthly_growth[k] = v - previous_month_value\n",
    "            # set this month's revenue as previous month for next iteration\n",
    "            previous_month_value = v\n",
    "total_months = len(financial_history_records)\n",
    "total = sum(financial_history_records.values())\n",
    "# define average_change to store the calculation of average change\n",
    "average_change = sum(monthly_growth.values())/len(monthly_growth)\n",
    "# define a sort_monthly_growth that stores sort of the monthly growth dictionary based on the values and reveresed to get highest first. Returned list has the key as first index\n",
    "sort_monthly_growth = sorted(monthly_growth.items(), key=lambda x: x[1], reverse=True)\n",
    "# greatest increase is the first record in list and decrease is the last \n",
    "greatest_increase  =sort_monthly_growth[0]\n",
    "greatest_decrease = sort_monthly_growth[len(sort_monthly_growth)-1]\n"
   ]
  },
  {
   "cell_type": "code",
   "execution_count": 3,
   "metadata": {},
   "outputs": [],
   "source": [
    "# declare and prepare print_format_str string to prepare the format required to print and save the analysis data\n",
    "print_format_str =  '''\n",
    " Financial Analysis\n",
    " ----------------------------------------\n",
    " Total Months: {totalMonths} \n",
    " Total: ${total} \n",
    " Average  Change: $ {averageChange}\n",
    " Greatest Increase in Profits: {inc_month} (${gr_increase})\n",
    " Greatest Decrease in Profits: {dec_month} (${gr_decrease})\n",
    "  ''' .format(totalMonths = total_months, total = round(total,2), averageChange = round(average_change,2),inc_month=greatest_increase[0], gr_increase = greatest_increase[1],dec_month = greatest_decrease[0], gr_decrease=greatest_decrease[1] )"
   ]
  },
  {
   "cell_type": "code",
   "execution_count": 4,
   "metadata": {},
   "outputs": [
    {
     "output_type": "stream",
     "name": "stdout",
     "text": [
      "\n Financial Analysis\n ----------------------------------------\n Total Months: 86 \n Total: $38382578.0 \n Average  Change: $ -2315.12\n Greatest Increase in Profits: Feb-2012 ($1926159.0)\n Greatest Decrease in Profits: Sep-2013 ($-2196167.0)\n  \n"
     ]
    }
   ],
   "source": [
    "#print output\n",
    "print(print_format_str)"
   ]
  },
  {
   "cell_type": "code",
   "execution_count": 5,
   "metadata": {},
   "outputs": [],
   "source": [
    "output_file = Path(\"./output_files/Financial_Analysis_Summary.txt\")\n",
    "with open(output_file,\"w\") as file:\n",
    "    file.write(print_format_str)"
   ]
  }
 ]
}