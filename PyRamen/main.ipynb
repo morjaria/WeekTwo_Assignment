{
 "metadata": {
  "language_info": {
   "codemirror_mode": {
    "name": "ipython",
    "version": 3
   },
   "file_extension": ".py",
   "mimetype": "text/x-python",
   "name": "python",
   "nbconvert_exporter": "python",
   "pygments_lexer": "ipython3",
   "version": "3.7.9-final"
  },
  "orig_nbformat": 2,
  "kernelspec": {
   "name": "python3",
   "display_name": "Python 3.7.9 64-bit ('mondev': conda)",
   "metadata": {
    "interpreter": {
     "hash": "c5c40dbd3a1b9bc80ef34e5a3242e004e2b84fb287cbee84c7571dc73f3ea7b1"
    }
   }
  }
 },
 "nbformat": 4,
 "nbformat_minor": 2,
 "cells": [
  {
   "cell_type": "code",
   "execution_count": null,
   "metadata": {},
   "outputs": [],
   "source": [
    "import csv\n",
    "from pathlib import Path\n",
    "# function to read file content into a list\n",
    "# Input: Path of the file\n",
    "#Output : Tuple with list of data read, list of column names, toral number of line read from the file(including header)\n",
    "def readCSVintoList(filePath):\n",
    "    # intiate line_count to capture number of lines read in the file\n",
    "    line_count= 0\n",
    "    # intiate column_names to capture column names \n",
    "    column_names=[]\n",
    "    # initiate data_list to store the data from the file\n",
    "    data_list =[]\n",
    "    # open file \n",
    "    with open(filePath , newline='') as data_file:\n",
    "          data_file_reader = csv.reader(data_file, delimiter = ',')\n",
    "          # read the columns of the data as the records in the first row\n",
    "          column_names = next(data_file_reader)\n",
    "          # first line conidered in lines \n",
    "          line_count = 1\n",
    "          # read the rest of the rows into the list\n",
    "          for row in data_file_reader:\n",
    "              data_list.append(row)\n",
    "              line_count += 1\n",
    "    return data_list,column_names,line_count"
   ]
  },
  {
   "cell_type": "code",
   "execution_count": null,
   "metadata": {},
   "outputs": [],
   "source": [
    "# Read the menu file first\n",
    "# Initiate a path variable with location of csv file\n",
    "file_path=Path('./data_files/menu_data.csv')\n",
    "# retrieve Tuple with return of function call\n",
    "menu_file_details= readCSVintoList(file_path)\n",
    "# retrieve menu list from the above tuple into a menu variable of type list \n",
    "menu = menu_file_details[0]\n",
    "menu_columns = menu_file_details[1]\n",
    "# for validation confirm against total rows in file\n",
    "print(f\"Total Rows in '{file_path.name}' are {menu_file_details[2]}\")"
   ]
  },
  {
   "cell_type": "code",
   "execution_count": null,
   "metadata": {},
   "outputs": [],
   "source": [
    "# Read the sales file next\n",
    "# Initiate a path variable with location of csv file\n",
    "file_path=Path('./data_files/sales_data.csv')\n",
    "# retrieve Tuple with return of function call\n",
    "sales_file_details= readCSVintoList(file_path)\n",
    "# retrieve sales list from the above tuple into a sales variable of type list\n",
    "sales = sales_file_details[0]\n",
    "# retrive the column names of the data\n",
    "sales_columns = sales_file_details[1]\n",
    "# for validation confirm against total rows in file\n",
    "print(f\"Total Rows in '{file_path.name}' are {sales_file_details[2]}\")"
   ]
  },
  {
   "cell_type": "code",
   "execution_count": null,
   "metadata": {},
   "outputs": [],
   "source": [
    "# initialise a dictionary report to store the report to be created\n",
    "report = {}\n",
    "# dyamic determination of list retrieval index\n",
    "# retrive the index values of the  interested data by using the column lists returned  \n",
    "quantity_index = sales_columns.index(\"Quantity\")\n",
    "sales_item_index =  sales_columns.index(\"Menu_Item\")\n",
    "menu_item_index = menu_columns.index(\"item\")\n",
    "menu_price_index = menu_columns.index(\"price\")\n",
    "menu_cost_index = menu_columns.index(\"cost\")\n",
    "#loop through the sale record \n",
    "for sale in sales:\n",
    "   # quantity = float(sale[-2])\n",
    "    quantity = float(sale[quantity_index])\n",
    "   # sale_item = sale[-1]\n",
    "    sale_item = sale[sales_item_index]\n",
    "   # sale_item = sale[[sales_columns.index(\"Menu_Item\")]]\n",
    "   # print (quantity, menu_item)\n",
    "    if sale_item not in report:\n",
    "       report[sale_item] = dict.fromkeys(['01-count','02-revenue','03-cogs','04-profit'],0)\n",
    "      # report[sales_report] = report_item\n",
    "    for menu_item in menu:\n",
    "        #item = menu_item[0]\n",
    "        item = menu_item[menu_item_index]\n",
    "        # price =  float(menu_item[-2])\n",
    "        price =  float(menu_item[menu_price_index])\n",
    "        # cost = float(menu_item[-1])\n",
    "        cost = float(menu_item[menu_cost_index])\n",
    "        #print(sale_item.lower(),\" == \" , item.lower())\n",
    "        if sale_item.lower() == item.lower():\n",
    "            revenue = quantity * price\n",
    "            report[sale_item] ['01-count'] += quantity\n",
    "            report[sale_item] ['02-revenue'] += revenue\n",
    "            report[sale_item] ['03-cogs'] += quantity * cost\n",
    "            report[sale_item] ['04-profit'] += revenue - (quantity * cost)"
   ]
  },
  {
   "cell_type": "code",
   "execution_count": null,
   "metadata": {},
   "outputs": [],
   "source": [
    "# Initialise report output string which we will use to print and write to file as per template\n",
    "output =\"\"\n",
    "for key, val in report.items():\n",
    "     output += str(key) + \" \" + str(val) + \"\\n\""
   ]
  },
  {
   "cell_type": "code",
   "execution_count": null,
   "metadata": {},
   "outputs": [],
   "source": [
    "print (output)"
   ]
  },
  {
   "cell_type": "code",
   "execution_count": null,
   "metadata": {},
   "outputs": [],
   "source": [
    "output_file = Path(\"./output_files/PyRamen_Sales_Report.txt\")\n",
    "with open(output_file,\"w\") as file:\n",
    "    file.write(output)"
   ]
  }
 ]
}